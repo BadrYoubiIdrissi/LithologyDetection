{
 "cells": [
  {
   "cell_type": "markdown",
   "metadata": {},
   "source": [
    "# Getting started: *Digitalisation de documents en utilisant des techniques de \"computer vision\" et \"machine learning\"*\n",
    "\n",
    "### Basic operations with images\n",
    "\n",
    "We can use the opencv-python module (a.k.a. cv2)"
   ]
  },
  {
   "cell_type": "code",
   "execution_count": null,
   "metadata": {},
   "outputs": [],
   "source": [
    "%matplotlib inline\n",
    "import matplotlib.pyplot as plt\n",
    "import cv2"
   ]
  },
  {
   "cell_type": "markdown",
   "metadata": {},
   "source": [
    "Read image log783.png"
   ]
  },
  {
   "cell_type": "code",
   "execution_count": null,
   "metadata": {},
   "outputs": [],
   "source": [
    "im = cv2.imread('log783.png', cv2.IMREAD_GRAYSCALE)"
   ]
  },
  {
   "cell_type": "markdown",
   "metadata": {},
   "source": [
    "Display"
   ]
  },
  {
   "cell_type": "code",
   "execution_count": null,
   "metadata": {},
   "outputs": [],
   "source": [
    "plt.figure(figsize=(15,30))\n",
    "plt.axis('equal')\n",
    "plt.imshow(im[:5000, :], cmap=plt.cm.gray);"
   ]
  },
  {
   "cell_type": "markdown",
   "metadata": {},
   "source": [
    "### Evaluation example\n",
    "\n",
    "This is to explain how we evaluate the F1 score of your predictions. \n",
    "We use the method <b>F1s</b> in <b>lithoeval.py</b>, which  returns 5 F1 scores in the following order.\n",
    "\n",
    "1. F1 score of the Clastic detection (yellow)\n",
    "2. F1 score of the Carbonate detection (blue)\n",
    "3. F1 score of the Other detection (brown)\n",
    "4. Average of 1,2,3 \n",
    "5. F1 score of the integral of the Clastic, Carbonate, Other detection. This corresponds to the column detection\n",
    "\n",
    "\n",
    "Note that:\n",
    "- F1 scores are 0 when the size of the predicted image is different from the non-labelled image\n",
    "- F1 score of 1, 2, 3 is nan when there is no piexel corresponding to the lithology type in the true image.\n",
    "- As mentioned in the presentation, we take into account 4 and 5 for the final score."
   ]
  },
  {
   "cell_type": "code",
   "execution_count": null,
   "metadata": {},
   "outputs": [],
   "source": [
    "import lithoeval"
   ]
  },
  {
   "cell_type": "code",
   "execution_count": null,
   "metadata": {},
   "outputs": [],
   "source": [
    "lithoeval.F1s?"
   ]
  },
  {
   "cell_type": "markdown",
   "metadata": {},
   "source": [
    "For the sake of the demonstration, the true image of log783.png is provided."
   ]
  },
  {
   "cell_type": "code",
   "execution_count": null,
   "metadata": {},
   "outputs": [],
   "source": [
    "file_true = 'log783-label.png'"
   ]
  },
  {
   "cell_type": "markdown",
   "metadata": {},
   "source": [
    "Three different predictions of log783.png are also provided. We see their scores in the below cells"
   ]
  },
  {
   "cell_type": "markdown",
   "metadata": {},
   "source": [
    "##### Case 1: log783-pred-1.png\n",
    "Perfect prediction"
   ]
  },
  {
   "cell_type": "code",
   "execution_count": null,
   "metadata": {
    "scrolled": false
   },
   "outputs": [],
   "source": [
    "file_pred = 'log783-pred-1.png'\n",
    "lithoeval.F1s(file_true, file_pred)"
   ]
  },
  {
   "cell_type": "markdown",
   "metadata": {},
   "source": [
    "##### Case 2: log783-pred-2.png\n",
    "\n",
    "Carbonate section in the middle is missclassified to Other"
   ]
  },
  {
   "cell_type": "code",
   "execution_count": null,
   "metadata": {},
   "outputs": [],
   "source": [
    "file_pred = 'log783-pred-2.png'\n",
    "lithoeval.F1s(file_true, file_pred)"
   ]
  },
  {
   "cell_type": "markdown",
   "metadata": {},
   "source": [
    "##### Case 3: log783-pred-3.png\n",
    "\n",
    "Clastic section in the bottom is not classified"
   ]
  },
  {
   "cell_type": "code",
   "execution_count": null,
   "metadata": {},
   "outputs": [],
   "source": [
    "file_pred = 'log783-pred-3.png'\n",
    "lithoeval.F1s(file_true, file_pred)"
   ]
  }
 ],
 "metadata": {
  "kernelspec": {
   "display_name": "lab",
   "language": "python",
   "name": "lab"
  },
  "language_info": {
   "codemirror_mode": {
    "name": "ipython",
    "version": 3
   },
   "file_extension": ".py",
   "mimetype": "text/x-python",
   "name": "python",
   "nbconvert_exporter": "python",
   "pygments_lexer": "ipython3",
   "version": "3.6.8"
  }
 },
 "nbformat": 4,
 "nbformat_minor": 2
}
